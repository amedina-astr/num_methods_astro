{
 "cells": [
  {
   "cell_type": "markdown",
   "id": "c7715b61",
   "metadata": {},
   "source": [
    "Alex Medina | Problem Set #7"
   ]
  },
  {
   "cell_type": "markdown",
   "id": "676a4d1f",
   "metadata": {},
   "source": [
    "**Problem 1:**\n",
    "\n",
    "- For a more satistical treatment, extract data from $261 < t< 262$.\n",
    "- Normalize the stellar flux as $F_i / \\bar{F}$ where $\\bar{F}$ is the mean unobscured stellar flux, excluding the transit; making use of two-sigma clipping algorithm:\n",
    "    - Computing the average and standard deviation $\\bar{F}$ and $\\sigma$ and excluding the transit by removing the points for which $ |F_i - \\bar{F}/\\sigma'| > 2$\n",
    "- Use the following limb-darkening relation:\n",
    "\n",
    "\\begin{equation}\n",
    "I(r) = 1 - (1 - \\mu^2)\n",
    "\\end{equation}\n",
    "\n",
    "where $\\mu = \\sqrt{1 - r^2}$.\n",
    "\n",
    "- Guess that the parameters which fit this light curve: $p = 0.0775$, $a = 0.1$, $t_0 = 261.3$\n",
    "\n",
    "- Compute $\\chi^2$ for this choice of parameters:\n",
    "\n",
    "\\begin{equation}\n",
    "\\chi^2 = \\sum_{i=1}^{N} \\left( \\frac{F_i - F(t_i; p, \\tau, t_0)}{\\sigma_{F, i}} \\right)^2.\n",
    "\\end{equation}"
   ]
  },
  {
   "cell_type": "code",
   "execution_count": 1,
   "id": "ad7f0b53",
   "metadata": {},
   "outputs": [],
   "source": [
    "#General imports\n",
    "import math as m\n",
    "import numpy as np\n",
    "import matplotlib.pyplot as plt\n",
    "\n",
    "#For this problem set\n",
    "import pickle\n",
    "\n",
    "#Loading up the file; as before\n",
    "f97 = open(\"KOI97_01.p\", \"rb\")\n",
    "data97 = pickle.load(f97)\n",
    "time0, flux0, flux_err0 = data97"
   ]
  },
  {
   "cell_type": "code",
   "execution_count": 2,
   "id": "7f8fa9d7",
   "metadata": {},
   "outputs": [],
   "source": [
    "#Extracting the section from t = 261 to 262\n",
    "index = np.where((time0 > 261) & (time0 < 262))\n",
    "time_obs = time0[index]\n",
    "flux_obs = flux0[index]\n",
    "flux_err_obs = flux_err0[index]"
   ]
  },
  {
   "cell_type": "code",
   "execution_count": 3,
   "id": "0cd92680",
   "metadata": {},
   "outputs": [
    {
     "name": "stdout",
     "output_type": "stream",
     "text": [
      "106594.31\n"
     ]
    }
   ],
   "source": [
    "#Normalizing the flux with a two-sigma clipping algorithm\n",
    "def clip_mean(x):\n",
    "    for i in range(8):\n",
    "        #x will be the flux\n",
    "        #We want x where the flux F_i minus the mean flux F_mean is greater than 2 sigma\n",
    "        x = x[np.where(abs(x - x.mean()) < 2 * x.std())]\n",
    "    return x.mean()\n",
    "\n",
    "normalize_flux = clip_mean(flux_obs)\n",
    "print(normalize_flux)"
   ]
  },
  {
   "cell_type": "code",
   "execution_count": 4,
   "id": "00841aab",
   "metadata": {},
   "outputs": [],
   "source": [
    "#Normalizing the flux\n",
    "flux_obs_ratio = flux_obs/normalize_flux\n",
    "flux_err_error = flux_err_obs/normalize_flux"
   ]
  },
  {
   "cell_type": "code",
   "execution_count": 5,
   "id": "2e4e2b0b",
   "metadata": {},
   "outputs": [],
   "source": [
    "#From pset 2, but with a more sophisticated apprach on limb darkening functions\n",
    "\n",
    "def delta_fct(p, r, z):\n",
    "\n",
    "    #At the ends of Simpson's rule, scalar values are fed in\n",
    "    if np.isscalar(r):\n",
    "        nr = 1\n",
    "        r  = np.array([r])\n",
    "    else:\n",
    "        nr = len(r)\n",
    "    \n",
    "    #Mark unmodified elements\n",
    "    result = np.zeros(nr) - 99\n",
    "    \n",
    "    #Where returns an array of indices satisfying the condition\n",
    "    result[ np.where(r + z <= p)] = 1\n",
    "\n",
    "    #Two conditions tested, and concatenated inside a list\n",
    "    result[np.concatenate((np.where(r >= z + p)[0], np.where(r <= z - p)[0]))] = 0 \n",
    "    \n",
    "    #Zero protect the division by adding a very small number to it\n",
    "    eps = 1e-14\n",
    "    \n",
    "    #Fill everything else\n",
    "    ind = np.where(result == -99)[0]\n",
    "    result[ind] = np.arccos((z**2 - p**2 + r[ind]**2) / (2 * z * r[ind] + eps)) / np.pi\n",
    "    \n",
    "    return result\n",
    "\n",
    "#Limb darkening function from this pset introduction\n",
    "def I(r):\n",
    "    mu = (1 - (r**2))**(0.5)\n",
    "    return 1 - (1 - (mu)**0.5)\n",
    "\n",
    "def numerator(r, p, z):\n",
    "    return I(r) * (1 - delta_fct(p, r, abs(z))) * 2 * r\n",
    "\n",
    "def denominator(r, p, z):\n",
    "    return I(r) * 2 * r"
   ]
  },
  {
   "cell_type": "code",
   "execution_count": 12,
   "id": "815bcd6b",
   "metadata": {},
   "outputs": [],
   "source": [
    "#Finally defining the integration\n",
    "\n",
    "#Instead of doing a numerical integral, just using built in python integrators to be quicker\n",
    "from scipy.integrate import quad\n",
    "\n",
    "#Similar to pset 3\n",
    "def lc_calculation(t, p, t0, tau):\n",
    "    zs = (t - t0)/tau\n",
    "    flux_ratio = []\n",
    "    for zval in zs:\n",
    "        obscured_flux, _ = quad(numerator, 0.0, 1.0, epsrel=1e-06, args=(p,zval))\n",
    "        unobscured_flux, _ = quad(denominator, 0.0, 1.0, epsrel=1e-06, args=(p,zval))\n",
    "        flux_ratio.append(obscured_flux / unobscured_flux)\n",
    "\n",
    "    return np.array(flux_ratio)"
   ]
  },
  {
   "cell_type": "code",
   "execution_count": 13,
   "id": "4b299044",
   "metadata": {},
   "outputs": [],
   "source": [
    "#Now executing for given parameters and chi-squared\n",
    "\n",
    "p = 0.0775\n",
    "tau = 0.1\n",
    "t0 = 261.3\n",
    "\n",
    "flux_theory_ratio = lc_calculation(time_obs, p, t0, tau)"
   ]
  },
  {
   "cell_type": "code",
   "execution_count": 8,
   "id": "25820b0d",
   "metadata": {},
   "outputs": [
    {
     "name": "stdout",
     "output_type": "stream",
     "text": [
      "chi-squared =  1465.677378078874\n"
     ]
    }
   ],
   "source": [
    "def chi_squared(yobs, ymodel, ysigma):\n",
    "    return np.sum(((yobs - ymodel) / ysigma)**2)\n",
    "\n",
    "chi2 = chi_squared(flux_obs_ratio, flux_theory_ratio, flux_err_error)\n",
    "print(\"chi-squared = \", chi2)"
   ]
  },
  {
   "cell_type": "markdown",
   "id": "17e52170",
   "metadata": {},
   "source": [
    "**Problem 2:**\n",
    "\n",
    "Is this a good fit?\n",
    "- Plot data on top of each other.\n",
    "- Compute how likely $\\chi^2$ value is assuming errors normally distributed.\n",
    "    - Discussed in theory from lecture."
   ]
  },
  {
   "cell_type": "code",
   "execution_count": 15,
   "id": "2bac123e",
   "metadata": {},
   "outputs": [
    {
     "data": {
      "image/png": "[encoded data removed]",
      "text/plain": [
       "<Figure size 640x480 with 1 Axes>"
      ]
     },
     "metadata": {},
     "output_type": "display_data"
    }
   ],
   "source": [
    "plt.errorbar(time_obs, flux_theory_ratio, yerr=flux_err_error, zorder=1)\n",
    "plt.plot(time_obs, flux_theory_ratio,'k-')\n",
    "\n",
    "plt.xlabel(\"Coordinated Universal Time - 2454833 (days)\")\n",
    "plt.ylabel(\"Flux Ratio (normalized)\")\n",
    "plt.show()"
   ]
  },
  {
   "cell_type": "code",
   "execution_count": 16,
   "id": "45714bce",
   "metadata": {},
   "outputs": [
    {
     "name": "stdout",
     "output_type": "stream",
     "text": [
      "Degrees of freedom =  1453\n",
      "probability of this chi-squared =  0.4025130451845383\n"
     ]
    }
   ],
   "source": [
    "#To compute the probabilites assuming Gaussian errors, using incomplete gamma discussed in lecture\n",
    "from scipy.special import gammaincc\n",
    "\n",
    "nu = len(flux_obs_ratio) - 3\n",
    "print(\"Degrees of freedom = \", nu)\n",
    "print(\"probability of this chi-squared = \",gammaincc(nu/2, chi2/2))"
   ]
  },
  {
   "cell_type": "markdown",
   "id": "e43b54c9",
   "metadata": {},
   "source": [
    "Looks like a good fit but overall isn't."
   ]
  }
 ],
 "metadata": {
  "kernelspec": {
   "display_name": "Python 3",
   "language": "python",
   "name": "python3"
  },
  "language_info": {
   "codemirror_mode": {
    "name": "ipython",
    "version": 3
   },
   "file_extension": ".py",
   "mimetype": "text/x-python",
   "name": "python",
   "nbconvert_exporter": "python",
   "pygments_lexer": "ipython3",
   "version": "3.11.9"
  }
 },
 "nbformat": 4,
 "nbformat_minor": 5
}
