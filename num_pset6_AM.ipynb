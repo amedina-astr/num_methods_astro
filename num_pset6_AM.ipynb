{
 "cells": [
  {
   "cell_type": "markdown",
   "id": "25cdfa8b",
   "metadata": {},
   "source": [
    "Alex Medina | Problem Set #6"
   ]
  },
  {
   "cell_type": "markdown",
   "id": "96e8ce7b",
   "metadata": {},
   "source": [
    "A substantial component of this course involves a larger-scale computational project which is formulated more independently by you, the student. This must involve some signi cant computation and should be within the general realm of physics, astrophysics or astronomy. When submitting the project, please include a brief but complete write-up."
   ]
  },
  {
   "cell_type": "markdown",
   "id": "758f125d",
   "metadata": {},
   "source": [
    "**Project Proposal:**\n",
    "\n",
    "I plan on develiping a simple stellar structure model by solving three coupled ODE's that descrive a star on the main sequence(like the sun), given its mass. I plan to do this as an extensino of the coupled differential equation solvers we've been building like the runge-kutta method. I also have a ton of experience solving coupled differential equations analytically and numerically from previous astrophysics courses.\n",
    "\n",
    "The stellar structure equations look much like the ones for the planet, except the pressure is thermal pressure, rather than solid mechanical bonds, and I will include an ODE for the discussion of radiation and the production of radiation via nuclear burning. I wil carry out this computation for a one solar mass star and plot the resulting stellar structure(density, mass, temperature, luminosity vs. temperature).\n",
    "\n",
    "What will be particularly insightfull is being able to put this on a model of the Hertzsprung-Russell diagram.\n",
    "\n"
   ]
  }
 ],
 "metadata": {
  "kernelspec": {
   "display_name": "Python 3",
   "language": "python",
   "name": "python3"
  },
  "language_info": {
   "name": "python",
   "version": "3.11.9"
  }
 },
 "nbformat": 4,
 "nbformat_minor": 5
}
