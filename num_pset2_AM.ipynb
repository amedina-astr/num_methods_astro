{
 "cells": [
  {
   "cell_type": "markdown",
   "id": "493396b1",
   "metadata": {},
   "source": [
    "Alex Medina | Problem Set #2"
   ]
  },
  {
   "cell_type": "markdown",
   "id": "240d8279",
   "metadata": {},
   "source": [
    "**Problem 1:**  \n",
    "\n",
    "- Continuing with building a integrator framework, we implement Simpon's rule to repeat problem 3 from last set and compute $\\int_{0}^{\\frac{\\pi}{2}} \\sin(x)\\, dx$."
   ]
  },
  {
   "cell_type": "code",
   "execution_count": null,
   "id": "99d1b5f6",
   "metadata": {},
   "outputs": [],
   "source": [
    "#Imports\n",
    "\n",
    "import math as m\n",
    "import numpy as np\n",
    "import matplotlib.pyplot as plt\n",
    "\n",
    "#Extra for this set\n",
    "import random"
   ]
  },
  {
   "cell_type": "code",
   "execution_count": 2,
   "id": "4984ff63",
   "metadata": {},
   "outputs": [],
   "source": [
    "#For consideration, lets rewrite the rectangle integration from pset1, but cleaning it up\n",
    "\n",
    "def rect_int(fct, a, b, N):\n",
    "    #fct = function we are integration\n",
    "    #lower and upper limits a and b\n",
    "    #number of steps N\n",
    "\n",
    "    #width deltax \n",
    "    delx = (b -a)/N\n",
    "    \n",
    "    result = 0\n",
    "    for i in np.arange(N):\n",
    "        x = a + i * delx\n",
    "        result += fct(x) * delx\n",
    "    return result"
   ]
  },
  {
   "cell_type": "code",
   "execution_count": 3,
   "id": "c543c6d2",
   "metadata": {},
   "outputs": [],
   "source": [
    "#We want to try it with sin again\n",
    "\n",
    "def sin_test(x):\n",
    "    return np.sin(x)"
   ]
  },
  {
   "cell_type": "code",
   "execution_count": 4,
   "id": "40c589b3",
   "metadata": {},
   "outputs": [
    {
     "name": "stdout",
     "output_type": "stream",
     "text": [
      "N = 1; integral = 0.9194031700146124; error = 0.08059682998538764\n",
      "N = 2; integral = 0.9921254566056334; error = 0.007874543394366551\n",
      "N = 3; integral = 0.9992143962198363; error = 0.0007856037801636795\n",
      "N = 4; integral = 0.9999214581274958; error = 7.854187250422306e-05\n",
      "N = 5; integral = 0.9999921459978001; error = 7.85400219993626e-06\n"
     ]
    }
   ],
   "source": [
    "for i in range(1,6):\n",
    "    lower = 0\n",
    "    upper = np.pi/2\n",
    "    numb_x = 10**i\n",
    "    integral = rect_int(sin_test, lower, upper, numb_x)\n",
    "    print(f\"N = {i};\", f\"integral = {integral};\", f\"error = {abs(integral - 1.0)/1.0}\")"
   ]
  },
  {
   "cell_type": "markdown",
   "id": "f7b66e08",
   "metadata": {},
   "source": [
    "As expected, the error decreases as 1/N."
   ]
  },
  {
   "cell_type": "code",
   "execution_count": 5,
   "id": "1050882e",
   "metadata": {},
   "outputs": [],
   "source": [
    "#Now trying the Simpson integrator\n",
    "\n",
    "def simpson_int(fct, a, b, N):\n",
    "    #Goes as (1/6 f0 + 2/3 f0.5 + 1/3 f1 + 2/3 f1.5 +... + 1/6 fn)\n",
    "    #with fct, a, b, and N representing the same things, just the result changes\n",
    "    delx = (b - a) / N   #rectangle width\n",
    "    \n",
    "    result = 0\n",
    "    for i in np.arange(N):\n",
    "        x       = a + i * delx\n",
    "        result += (fct(x) + 4 * fct(x + 0.5 * delx) + fct(x + delx)) / 6 * delx   \n",
    "    return result"
   ]
  },
  {
   "cell_type": "code",
   "execution_count": 6,
   "id": "478d753d",
   "metadata": {},
   "outputs": [
    {
     "name": "stdout",
     "output_type": "stream",
     "text": [
      "N = 1; integral = 1.0000002115465914; error = 2.115465913554715e-07\n",
      "N = 2; integral = 1.0000000000211395; error = 2.113953456728268e-11\n",
      "N = 3; integral = 1.000000000000002; error = 1.9984014443252818e-15\n",
      "N = 4; integral = 1.0000000000000004; error = 4.440892098500626e-16\n",
      "N = 5; integral = 1.0000000000000004; error = 4.440892098500626e-16\n"
     ]
    }
   ],
   "source": [
    "#I'm only doing it with Simpsons rule\n",
    "\n",
    "for i in range(1,6):\n",
    "    lower = 0\n",
    "    upper = np.pi/2\n",
    "    numb_x = 10**i\n",
    "    integral = simpson_int(sin_test, lower, upper, numb_x)\n",
    "    print(f\"N = {i};\", f\"integral = {integral};\", f\"error = {abs(integral - 1.0)/1.0}\")"
   ]
  },
  {
   "cell_type": "markdown",
   "id": "aeadca93",
   "metadata": {},
   "source": [
    "For increasing N, the error appears to decreases by a factor of $10^4$; so this means that it is a fourth order method."
   ]
  },
  {
   "cell_type": "markdown",
   "id": "cbf9c343",
   "metadata": {},
   "source": [
    "**Problem 2:**  \n",
    "\n",
    "- Having already done a basic transit analysis of a uniform star, we take a star with limb darkening: parameterized with the function $ I(r) $, which is the intensity of the sun’s surface as a function of radius $r$, such that the flux:\n",
    "\n",
    "\\begin{equation}\n",
    "F(p, z) = \\frac{ \\int_0^1 I(r) \\left[ 1 - \\delta(p, r, z) \\right] 2r\\,dr }{ \\int_0^1 I(r) 2r\\,dr }\n",
    "\\end{equation}\n",
    "\n",
    "where\n",
    "\n",
    "\\begin{equation}\n",
    "\\delta(p, r, z) =\n",
    "\\begin{cases}\n",
    "0 & \\text{if } r \\geq z + p \\text{or } r \\leq z - p\\\\\n",
    "1 & \\text{if } r +z \\leq p \\\\\n",
    "\\frac{1}{\\pi} \\cos^{-1}\\left( \\frac{z^2 - p^2 + r^2}{2zr} \\right) & \\text{otherwise}\n",
    "\\end{cases}\n",
    "\\end{equation}\n",
    "\n",
    "- Evaluating for $p = 0.2$ and $z = 0.9$."
   ]
  },
  {
   "cell_type": "code",
   "execution_count": null,
   "id": "49e1f21b",
   "metadata": {},
   "outputs": [],
   "source": [
    "#Since the function depends on delta, I write it first\n",
    "\n",
    "def delta_fct(p, r, z):\n",
    "    if (r >= z + p) or (r <= z - p):\n",
    "        return 0\n",
    "    elif (r + z <= p):\n",
    "        return 1\n",
    "    else:\n",
    "        #Learning to prevent errors, i.e. division by zero\n",
    "        if (z != 0) and (r != 0):\n",
    "            arg = (z**2 - p**2 + r**2) / (2 * z * r)\n",
    "        else:\n",
    "            print('Either z or r vanished. z =',z,'; and r =',r,'.')\n",
    "        return (1/np.pi) * np.arccos(arg)"
   ]
  },
  {
   "cell_type": "code",
   "execution_count": 8,
   "id": "0124e66e",
   "metadata": {},
   "outputs": [],
   "source": [
    "#While we define I(r) as 1, I will still define it\n",
    "\n",
    "def nolimb(r):\n",
    "    return 1"
   ]
  },
  {
   "cell_type": "code",
   "execution_count": 12,
   "id": "6c621c76",
   "metadata": {},
   "outputs": [],
   "source": [
    "#Since we are just doing a serial, not an array\n",
    "\n",
    "def flux(p, z, limb_fct, integrator, N):\n",
    "    #Flux depends on p and z\n",
    "    #But also has the limb_fct which depends on r\n",
    "    #And we do the intrgration\n",
    "\n",
    "    def numerator(r, p = p, z = z):\n",
    "        return limb_fct(r) * (1 - delta_fct(p, r, z)) * 2 * r\n",
    "    def denominator(r):\n",
    "        return limb_fct(r) * 2.0 * r\n",
    "    \n",
    "    #Bounds\n",
    "    lower = 0\n",
    "    upper = 1\n",
    "    \n",
    "    top = integrator(numerator, lower, upper, N)\n",
    "    bottom = integrator(denominator, lower, upper, N)\n",
    "\n",
    "    return top/bottom"
   ]
  },
  {
   "cell_type": "code",
   "execution_count": null,
   "id": "fe283f83",
   "metadata": {},
   "outputs": [],
   "source": [
    "#For error analysis, from pset 1, we have the lambda fct\n",
    "\n",
    "def lambda_fct(p, z):\n",
    "    #Case when the planet is off of the star entirely\n",
    "    if z > 1 + p:\n",
    "        return 0\n",
    "\n",
    "    #Case where the planet is bigger than the star (i.e. eclipse)\n",
    "    elif z <= p - 1:   \n",
    "        return 1\n",
    "\n",
    "    #Case where the planet is entirely on the star \n",
    "    elif z <= 1 - p:   \n",
    "        return p*p       \n",
    "    \n",
    "    #Now the big part is for partial obscuration\n",
    "    elif (m.fabs(1 - p) < z) and (z <= (1 + p)):\n",
    "        \n",
    "        root = 0.5 * np.sqrt(4 * z**2 - (1 + z**2 - p**2)**2)\n",
    "        k0 = (p**2 + z**2 - 1) / (2 * p * z)  \n",
    "        k1 = (1 - p**2 + z**2) / (2 * z)  \n",
    "        kappa_0  = m.acos(k0)\n",
    "        kappa_1  = m.acos(k1)\n",
    "        \n",
    "        #print(sqrt_fact, kappa_0, kappa_1)\n",
    "        return (1 / m.pi) * (p**2 * kappa_0 + kappa_1 - root)\n",
    "\n",
    "#original flux from problem set 1 for an error analysis\n",
    "def og_flux(p, z):\n",
    "    return 1 - lambda_fct(0.2, np.abs(z))"
   ]
  },
  {
   "cell_type": "code",
   "execution_count": null,
   "id": "2c3568dc",
   "metadata": {},
   "outputs": [
    {
     "name": "stdout",
     "output_type": "stream",
     "text": [
      "N,    f_int,    f_true,     relative error\n",
      "10 0.9687420048514388 0.9684170049114548 0.0003355991668214699\n",
      "100 0.9684272016510476 0.9684170049114548 1.0529285980192063e-05\n",
      "1000 0.9684173272303755 0.9684170049114548 3.328307115024195e-07\n",
      "10000 0.9684170151036687 0.9684170049114548 1.0524612754640314e-08\n"
     ]
    }
   ],
   "source": [
    "p = 0.2\n",
    "z = 0.9\n",
    "\n",
    "#Comparing to original flux\n",
    "f_true = og_flux(p, z)\n",
    "\n",
    "#With simpson integral method\n",
    "print('N,    f_int,    f_true,     relative error')\n",
    "for i in range(1,5):\n",
    "    f_int = flux(p, z, nolimb, simpson_int, 10**i)\n",
    "    print(10**i, f_int, f_true, abs(f_int - f_true)/f_true)"
   ]
  },
  {
   "cell_type": "markdown",
   "id": "1897215a",
   "metadata": {},
   "source": [
    "**Problem 3:**  \n",
    "\n",
    "- Using a Monte-Carlo integration to evaluate the same integrals as in the last problem (again assuming $I(r) = 1$).\n",
    "- Generate N random x and y values that are each drawn from a uniform distribution from -1 to 1 and rejecting points that lie outside the unit circle, $N_1$.\n",
    "- Count number of accepted points, $N_2$.\n",
    "- Estimate $F(p, z)$:\n",
    "\n",
    "\\begin{equation}\n",
    "F(p, z) \\approx \\frac{N_1 - N_2}{N_1}\n",
    "\\end{equation}"
   ]
  },
  {
   "cell_type": "code",
   "execution_count": null,
   "id": "1a72e76b",
   "metadata": {},
   "outputs": [],
   "source": [
    "#Creating the monte carlo integration unsing np.random\n",
    "\n",
    "def mc_planet(p, z, N):\n",
    "    #since normalized\n",
    "    radius = 1\n",
    "    n1 = 0 \n",
    "    n2 = 0\n",
    "\n",
    "    for i in np.arange(N):\n",
    "        xr = random.uniform(-1, 1)\n",
    "        yr = random.uniform(-1, 1)\n",
    "        \n",
    "        #Check points for inclusion\n",
    "        #Inside the stellar disk\n",
    "        if xr**2 + yr**2 <= 1:\n",
    "            n1 += 1.0\n",
    "            #Also inside the planet\n",
    "            if (xr - z)**2 + yr**2 < p**2:\n",
    "                n2 +=1.0\n",
    "    \n",
    "    #Check to see if we got enough points to avoid division by zero\n",
    "    #and return result if so\n",
    "    if n1 > 0:\n",
    "        return (n1 - n2)/n1\n",
    "    else:\n",
    "        print(\"Too few points\", N)"
   ]
  },
  {
   "cell_type": "code",
   "execution_count": null,
   "id": "9c8ea497",
   "metadata": {},
   "outputs": [
    {
     "name": "stdout",
     "output_type": "stream",
     "text": [
      "N,    f_int,    f_true,     relative error\n",
      "10 1.0 0.9684170049114548 0.03261301167613528\n",
      "100 0.9230769230769231 0.9684170049114548 0.046818758452798155\n",
      "1000 0.967948717948718 0.9684170049114548 0.00048355921092033696\n",
      "10000 0.9700446144040791 0.9684170049114548 0.0016806907400114496\n"
     ]
    }
   ],
   "source": [
    "#We already have p, z, and f_true from above\n",
    "\n",
    "print('N, f_int, f_true, relative error')\n",
    "for i in range(1,5):\n",
    "    f_int = mc_planet(p, z, 10**i)\n",
    "    print(10**i, f_int, f_true, abs(f_int - f_true)/f_true)"
   ]
  },
  {
   "cell_type": "markdown",
   "id": "cf6f1dd3",
   "metadata": {},
   "source": [
    "Error bounces A LOT, probably from the randomness."
   ]
  }
 ],
 "metadata": {
  "kernelspec": {
   "display_name": "Python 3",
   "language": "python",
   "name": "python3"
  },
  "language_info": {
   "codemirror_mode": {
    "name": "ipython",
    "version": 3
   },
   "file_extension": ".py",
   "mimetype": "text/x-python",
   "name": "python",
   "nbconvert_exporter": "python",
   "pygments_lexer": "ipython3",
   "version": "3.11.9"
  }
 },
 "nbformat": 4,
 "nbformat_minor": 5
}
